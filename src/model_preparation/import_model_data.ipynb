{
 "cells": [
  {
   "cell_type": "markdown",
   "metadata": {},
   "source": [
    "## Import Data for Model training and testing\n"
   ]
  },
  {
   "cell_type": "code",
   "execution_count": 3,
   "metadata": {},
   "outputs": [
    {
     "name": "stdout",
     "output_type": "stream",
     "text": [
      "Stored 'model_df' (DataFrame)\n"
     ]
    }
   ],
   "source": [
    "import pandas as pd\n",
    "\n",
    "# Importieren des DataFrames aus der CSV-Datei\n",
    "import_data = pd.read_csv('../../model_data.csv', parse_dates=['time'])\n",
    "# Typen der Spalten deklarieren\n",
    "import_data['time'] = pd.to_datetime(import_data['time'], errors='coerce').dt.tz_convert('America/Los_Angeles')\n",
    "import_data['siteID'] = import_data['siteID'].astype(str)\n",
    "import_data['occupied_count'] = import_data['occupied_count'].astype(float)\n",
    "import_data['is_holiday'] = import_data['is_holiday'].astype(bool)\n",
    "import_data['temperature'] = import_data['temperature'].astype(float)\n",
    "import_data['weather_description'] = import_data['weather_description'].astype(str)\n",
    "import_data['Weekday'] = import_data['Weekday'].astype(str)\n",
    "\n",
    "\n",
    "model_df = import_data.copy()\n",
    "\n",
    "\n",
    "%store model_df\n",
    "\n",
    "model_df\n"
   ]
  }
 ],
 "metadata": {
  "kernelspec": {
   "display_name": "AA-Project",
   "language": "python",
   "name": "python3"
  },
  "language_info": {
   "codemirror_mode": {
    "name": "ipython",
    "version": 3
   },
   "file_extension": ".py",
   "mimetype": "text/x-python",
   "name": "python",
   "nbconvert_exporter": "python",
   "pygments_lexer": "ipython3",
   "version": "3.10.13"
  }
 },
 "nbformat": 4,
 "nbformat_minor": 2
}
